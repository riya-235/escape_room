{
  "nbformat": 4,
  "nbformat_minor": 0,
  "metadata": {
    "colab": {
      "provenance": [],
      "toc_visible": true,
      "include_colab_link": true
    },
    "kernelspec": {
      "name": "python3",
      "display_name": "Python 3"
    },
    "language_info": {
      "name": "python"
    }
  },
  "cells": [
    {
      "cell_type": "markdown",
      "metadata": {
        "id": "view-in-github",
        "colab_type": "text"
      },
      "source": [
        "<a href=\"https://colab.research.google.com/github/riya-235/escape_room/blob/main/EscapeRoom.ipynb\" target=\"_parent\"><img src=\"https://colab.research.google.com/assets/colab-badge.svg\" alt=\"Open In Colab\"/></a>"
      ]
    },
    {
      "cell_type": "code",
      "execution_count": null,
      "metadata": {
        "id": "LhmhCHEMdX47"
      },
      "outputs": [],
      "source": [
        "# Run the keys before you start and then do not touch them (You also don't have to open the cell)"
      ]
    },
    {
      "cell_type": "markdown",
      "source": [
        "# Keys"
      ],
      "metadata": {
        "id": "ocNg_kZD5NG7"
      }
    },
    {
      "cell_type": "code",
      "source": [
        "!wget -O escape_utils.py https://raw.githubusercontent.com/riya-235/escape/main/escape_utils.py"
      ],
      "metadata": {
        "colab": {
          "base_uri": "https://localhost:8080/"
        },
        "id": "vLGk0D635Tmy",
        "outputId": "5ef9e2de-d80b-4511-c53a-c2b8e34bf965"
      },
      "execution_count": null,
      "outputs": [
        {
          "output_type": "stream",
          "name": "stdout",
          "text": [
            "--2025-07-15 22:40:23--  https://raw.githubusercontent.com/riya-235/escape/main/escape_utils.py\n",
            "Resolving raw.githubusercontent.com (raw.githubusercontent.com)... 185.199.110.133, 185.199.108.133, 185.199.109.133, ...\n",
            "Connecting to raw.githubusercontent.com (raw.githubusercontent.com)|185.199.110.133|:443... connected.\n",
            "HTTP request sent, awaiting response... 200 OK\n",
            "Length: 637 [text/plain]\n",
            "Saving to: ‘escape_utils.py’\n",
            "\n",
            "\rescape_utils.py       0%[                    ]       0  --.-KB/s               \rescape_utils.py     100%[===================>]     637  --.-KB/s    in 0s      \n",
            "\n",
            "2025-07-15 22:40:23 (41.0 MB/s) - ‘escape_utils.py’ saved [637/637]\n",
            "\n"
          ]
        }
      ]
    },
    {
      "cell_type": "markdown",
      "source": [
        "# Puzzle 1"
      ],
      "metadata": {
        "id": "jJYtL7pLe-Pt"
      }
    },
    {
      "cell_type": "code",
      "source": [
        "from escape_utils import reveal_key_1\n",
        "\n",
        "# There's a logic bug here. Fix it so the function returns True when tested.\n",
        "def compare_variables():\n",
        "    a = 5\n",
        "    b = 10\n",
        "    a = b\n",
        "    b = a\n",
        "    return a + b == 15 and a > b and b < a\n",
        "\n",
        "# # DO NOT ALTER THE CODE BELOW\n",
        "if compare_variables():\n",
        "    reveal_key_1()\n",
        "else:\n",
        "    print(\"Try again!\")\n"
      ],
      "metadata": {
        "colab": {
          "base_uri": "https://localhost:8080/"
        },
        "id": "Ly810E3QfDek",
        "outputId": "a7d51e2c-50eb-47ac-a550-94fc01290091"
      },
      "execution_count": null,
      "outputs": [
        {
          "output_type": "stream",
          "name": "stdout",
          "text": [
            "Try again!\n"
          ]
        }
      ]
    },
    {
      "cell_type": "markdown",
      "source": [
        "# Puzzle 2"
      ],
      "metadata": {
        "id": "ayBhw6-EhaGr"
      }
    },
    {
      "cell_type": "code",
      "source": [
        "from escape_utils import reveal_key_2\n",
        "\n",
        "\n",
        "# Fix the code to get the key!\n",
        "def extract_ints(data):\n",
        "    result = []\n",
        "    for item in data:\n",
        "            result.append(item)\n",
        "    return result\n",
        "\n",
        "# # DO NOT ALTER THE CODE BELOW\n",
        "mixed = [5, \"4\", True, 3.14, 2, False, \"hello\"]\n",
        "\n",
        "if extract_ints(mixed) == [5, 2]:\n",
        "    reveal_key_2()\n",
        "else:\n",
        "    print(\"Try again! Watch out for tricky types like booleans.\")"
      ],
      "metadata": {
        "id": "vgXlkuEPhc3z",
        "colab": {
          "base_uri": "https://localhost:8080/"
        },
        "outputId": "ebaf5c89-ebda-48aa-92bd-531b44121840"
      },
      "execution_count": null,
      "outputs": [
        {
          "output_type": "stream",
          "name": "stdout",
          "text": [
            "Try again! Watch out for tricky types like booleans.\n",
            "✅ Puzzle 2 Solved! Key: 54\n"
          ]
        }
      ]
    },
    {
      "cell_type": "markdown",
      "source": [
        "# Puzzle 3"
      ],
      "metadata": {
        "id": "n-lc5b0iwkDV"
      }
    },
    {
      "cell_type": "code",
      "source": [
        "from escape_utils import reveal_key_3\n",
        "\n",
        "# There's a syntax bug and a logic issue in this function. Fix it.\n",
        "\n",
        "def tricky_func(x, y=3)\n",
        "    result = x + y\n",
        "    if result % 2 = 0:\n",
        "        return even\n",
        "    else\n",
        "        return \"odd\"\n",
        "\n",
        "# # DO NOT ALTER THE CODE BELOW\n",
        "if tricky_func(4) == \"odd\" and tricky_func(5, 3) == \"even\":\n",
        "    reveal_key_3()\n",
        "else:\n",
        "    print(\"Check your return logic and function arguments!\")\n"
      ],
      "metadata": {
        "id": "KKSGTD3Iwmct"
      },
      "execution_count": null,
      "outputs": []
    },
    {
      "cell_type": "markdown",
      "source": [
        "# Puzzle 4"
      ],
      "metadata": {
        "id": "F3ooCd5AyGwL"
      }
    },
    {
      "cell_type": "code",
      "source": [
        "from escape_utils import reveal_key_4\n",
        "\n",
        "# This function is meant to sum all **prime numbers** between 1 and 50\n",
        "\n",
        "def is_prime(n):\n",
        "    if n <= 1:\n",
        "        return False\n",
        "    for i in range(2, n // 2):\n",
        "        if n % i == 0:\n",
        "            return False\n",
        "    return True\n",
        "\n",
        "def sum_primes(limit):\n",
        "    total = 0\n",
        "    num = 1\n",
        "    while num < limit:\n",
        "        if is_prime(num):\n",
        "            total += num\n",
        "        num += 1\n",
        "    return total\n",
        "\n",
        "# # DO NOT ALTER THE CODE BELOW\n",
        "if sum_primes(50) == 328:\n",
        "    reveal_key_4()\n",
        "else:\n",
        "    print(\"Not quite. Did you include all the primes up to 50?\")\n"
      ],
      "metadata": {
        "id": "B1SRq1qHyJZB"
      },
      "execution_count": null,
      "outputs": []
    },
    {
      "cell_type": "markdown",
      "source": [
        "# Puzzle 5"
      ],
      "metadata": {
        "id": "WT7ikjl-zS1k"
      }
    },
    {
      "cell_type": "code",
      "source": [
        "from escape_utils import reveal_key_5\n",
        "\n",
        "# A museum is setting visitor access rules:\n",
        "# A visitor is allowed in if:\n",
        "# - They are at least 18 **AND** have an ID\n",
        "# - OR they are under 12 and with a guardian\n",
        "# - OR they are between 12 and 18 but have a friend\n",
        "\n",
        "def allow_entry(age, has_id, with_guardian, with_friend):\n",
        "    # write if/else statements here! Code should return True or False\n",
        "    return False\n",
        "\n",
        "# # DO NOT ALTER THE CODE BELOW\n",
        "one = allow_entry(18, True, False, False)\n",
        "two = allow_entry(16, False, True, False)\n",
        "three = allow_entry(43, False, False, True)\n",
        "four = allow_entry(7, True, True, True)\n",
        "if one == True and two == False and three == False and four ==  True:\n",
        "    reveal_key_5()\n",
        "else:\n",
        "    print(\"Not quite! Review both adult and child conditions carefully.\")\n"
      ],
      "metadata": {
        "colab": {
          "base_uri": "https://localhost:8080/"
        },
        "id": "Wn4a340WzVUK",
        "outputId": "da707bd8-6a26-42ba-e8aa-8fdea89f2b28"
      },
      "execution_count": null,
      "outputs": [
        {
          "output_type": "stream",
          "name": "stdout",
          "text": [
            "Not quite! Review both adult and child conditions carefully.\n"
          ]
        }
      ]
    },
    {
      "cell_type": "markdown",
      "source": [
        "# Puzzle 6"
      ],
      "metadata": {
        "id": "6x_jU9vgIYxA"
      }
    },
    {
      "cell_type": "code",
      "source": [
        "from escape_utils import reveal_key_6\n",
        "\n",
        "# Add drift to base_time, then wrap around if it exceeds 1440 (24 hours)\n",
        "# Example: base_time = 1435, drift = 10 → 1435 + 10 = 1445 → return 5\n",
        "def time_offset(base_time, drift):\n",
        "    pass  # your code here\n",
        "\n",
        "# DO NOT ALTER THE CODE BELOW\n",
        "if (time_offset(100, 20) == 120 and\n",
        "    time_offset(1435, 10) == 5 and\n",
        "    time_offset(0, 1440) == 0):\n",
        "    reveal_key_6()\n",
        "else:\n",
        "    print(\"Clock still drifting...\")\n"
      ],
      "metadata": {
        "colab": {
          "base_uri": "https://localhost:8080/"
        },
        "id": "njqDfZ-oIclB",
        "outputId": "bdef858a-bd07-45ec-ec94-ce77472d83a9"
      },
      "execution_count": null,
      "outputs": [
        {
          "output_type": "stream",
          "name": "stdout",
          "text": [
            "Clock still drifting...\n"
          ]
        }
      ]
    },
    {
      "cell_type": "markdown",
      "source": [
        "# Puzzle 7"
      ],
      "metadata": {
        "id": "UP4j2TT6Kue5"
      }
    },
    {
      "cell_type": "code",
      "source": [
        "from escape_utils import reveal_key_7\n",
        "\n",
        "# Write a function that returns how many battery readings are within the safe range:\n",
        "# valid range: 3.7V to 4.2V (inclusive)\n",
        "\n",
        "def count_valid_voltages(readings):\n",
        "    pass  # your code here\n",
        "\n",
        "# # DO NOT ALTER THE CODE BELOW\n",
        "sample1 = [3.6, 3.8, 4.0, 4.3, 3.9, 4.2, 4.5, 3.2]  # 4 valid\n",
        "sample2 = [3.7, 3.7, 4.2, 4.2]                      # 4 valid\n",
        "sample3 = [3.1, 3.5, 4.3, 4.6]                      # 0 valid\n",
        "sample4 = []                                        # 0 valid\n",
        "sample5 = [3.75, 4.1, 4.3, 3.69, 4.0, 3.71]          # 4 valid\n",
        "\n",
        "if (count_valid_voltages(sample1) == 4 and\n",
        "    count_valid_voltages(sample2) == 4 and\n",
        "    count_valid_voltages(sample3) == 0 and\n",
        "    count_valid_voltages(sample4) == 0 and\n",
        "    count_valid_voltages(sample5) == 4):\n",
        "    reveal_key_7()\n",
        "else:\n",
        "    print(\"Battery check failed. Try again!\")\n"
      ],
      "metadata": {
        "colab": {
          "base_uri": "https://localhost:8080/"
        },
        "id": "yG9dC3M3Kxmo",
        "outputId": "e1f93887-bc45-4139-847f-443a801fa914"
      },
      "execution_count": null,
      "outputs": [
        {
          "output_type": "stream",
          "name": "stdout",
          "text": [
            "Battery check failed. Try again!\n"
          ]
        }
      ]
    },
    {
      "cell_type": "markdown",
      "source": [
        "# Puzzle 8"
      ],
      "metadata": {
        "id": "d7n2fxX1Me9K"
      }
    },
    {
      "cell_type": "code",
      "source": [
        "from escape_utils import reveal_key_8\n",
        "\n",
        "# Remove all underscores from the message and return the result\n",
        "\n",
        "def clean_message(msg):\n",
        "    pass  # your code here\n",
        "\n",
        "# DO NOT ALTER CODE BELOW\n",
        "if (clean_message(\"h_e_l_l_o\") == \"hello\" and\n",
        "    clean_message(\"d_a_t_a__p_a_c_k_e_t\") == \"datapacket\" and\n",
        "    clean_message(\"__o_z_o_n_e__\") == \"ozone\"):\n",
        "    reveal_key_8()\n",
        "else:\n",
        "    print(\"Still too much noise in the signal!\")\n"
      ],
      "metadata": {
        "colab": {
          "base_uri": "https://localhost:8080/"
        },
        "id": "echyfC9dMfgR",
        "outputId": "3ccf2933-1bd0-48d6-8cc3-b69fce134bbc"
      },
      "execution_count": null,
      "outputs": [
        {
          "output_type": "stream",
          "name": "stdout",
          "text": [
            "Still too much noise in the signal!\n"
          ]
        }
      ]
    }
  ]
}